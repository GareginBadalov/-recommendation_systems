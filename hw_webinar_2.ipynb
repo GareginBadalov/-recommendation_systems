{
 "cells": [
  {
   "cell_type": "code",
   "execution_count": 5,
   "metadata": {
    "colab": {},
    "colab_type": "code",
    "id": "rgIzW-DSC8Yi"
   },
   "outputs": [],
   "source": [
    "import pandas as pd\n",
    "import numpy as np\n",
    "import matplotlib.pyplot as plt\n",
    "import random\n",
    "%matplotlib inline\n",
    "from numpy.random import choice\n",
    "# Для работы с матрицами\n",
    "from scipy.sparse import csr_matrix, coo_matrix\n",
    "import math\n",
    "# Детерминированные алгоритмы\n",
    "from implicit.nearest_neighbours import ItemItemRecommender, CosineRecommender, TFIDFRecommender, BM25Recommender\n",
    "\n",
    "# Метрики\n",
    "from implicit.evaluation import train_test_split\n",
    "from metrics import precision_at_k\n",
    "from implicit.evaluation import  mean_average_precision_at_k, AUC_at_k, ndcg_at_k"
   ]
  },
  {
   "cell_type": "code",
   "execution_count": 6,
   "metadata": {
    "colab": {},
    "colab_type": "code",
    "id": "9qFkcgyrC8Yt",
    "outputId": "24a33bf1-942a-4b18-c54a-a7500c8f8712"
   },
   "outputs": [
    {
     "data": {
      "text/html": [
       "<div>\n",
       "<style scoped>\n",
       "    .dataframe tbody tr th:only-of-type {\n",
       "        vertical-align: middle;\n",
       "    }\n",
       "\n",
       "    .dataframe tbody tr th {\n",
       "        vertical-align: top;\n",
       "    }\n",
       "\n",
       "    .dataframe thead th {\n",
       "        text-align: right;\n",
       "    }\n",
       "</style>\n",
       "<table border=\"1\" class=\"dataframe\">\n",
       "  <thead>\n",
       "    <tr style=\"text-align: right;\">\n",
       "      <th></th>\n",
       "      <th>user_id</th>\n",
       "      <th>basket_id</th>\n",
       "      <th>day</th>\n",
       "      <th>item_id</th>\n",
       "      <th>quantity</th>\n",
       "      <th>sales_value</th>\n",
       "      <th>store_id</th>\n",
       "      <th>retail_disc</th>\n",
       "      <th>trans_time</th>\n",
       "      <th>week_no</th>\n",
       "      <th>coupon_disc</th>\n",
       "      <th>coupon_match_disc</th>\n",
       "    </tr>\n",
       "  </thead>\n",
       "  <tbody>\n",
       "    <tr>\n",
       "      <th>0</th>\n",
       "      <td>2375</td>\n",
       "      <td>26984851472</td>\n",
       "      <td>1</td>\n",
       "      <td>1004906</td>\n",
       "      <td>1</td>\n",
       "      <td>1.39</td>\n",
       "      <td>364</td>\n",
       "      <td>-0.6</td>\n",
       "      <td>1631</td>\n",
       "      <td>1</td>\n",
       "      <td>0.0</td>\n",
       "      <td>0.0</td>\n",
       "    </tr>\n",
       "    <tr>\n",
       "      <th>1</th>\n",
       "      <td>2375</td>\n",
       "      <td>26984851472</td>\n",
       "      <td>1</td>\n",
       "      <td>1033142</td>\n",
       "      <td>1</td>\n",
       "      <td>0.82</td>\n",
       "      <td>364</td>\n",
       "      <td>0.0</td>\n",
       "      <td>1631</td>\n",
       "      <td>1</td>\n",
       "      <td>0.0</td>\n",
       "      <td>0.0</td>\n",
       "    </tr>\n",
       "  </tbody>\n",
       "</table>\n",
       "</div>"
      ],
      "text/plain": [
       "   user_id    basket_id  day  item_id  quantity  sales_value  store_id  \\\n",
       "0     2375  26984851472    1  1004906         1         1.39       364   \n",
       "1     2375  26984851472    1  1033142         1         0.82       364   \n",
       "\n",
       "   retail_disc  trans_time  week_no  coupon_disc  coupon_match_disc  \n",
       "0         -0.6        1631        1          0.0                0.0  \n",
       "1          0.0        1631        1          0.0                0.0  "
      ]
     },
     "execution_count": 6,
     "metadata": {},
     "output_type": "execute_result"
    }
   ],
   "source": [
    "data = pd.read_csv('retail_train.csv')\n",
    "data.head(2)"
   ]
  },
  {
   "cell_type": "code",
   "execution_count": 7,
   "metadata": {
    "colab": {},
    "colab_type": "code",
    "id": "epcBZlgJC8Y0"
   },
   "outputs": [],
   "source": [
    "test_size_weeks = 3\n",
    "\n",
    "data_train = data[data['week_no'] < data['week_no'].max() - test_size_weeks]\n",
    "data_test = data[data['week_no'] >= data['week_no'].max() - test_size_weeks]"
   ]
  },
  {
   "cell_type": "markdown",
   "metadata": {
    "colab_type": "text",
    "id": "zlUUzLFeC8Y4"
   },
   "source": [
    "### Задание 1. Weighted Random Recommendation\n",
    "\n",
    "Напишите код для случайных рекоммендаций, в которых вероятность рекомендовать товар прямо пропорциональна логарифму продаж\n",
    "- Можно сэмплировать товары случайно, но пропорционально какому-либо весу\n",
    "- Например, прямопропорционально популярности. Вес = log(sales_sum товара)"
   ]
  },
  {
   "cell_type": "code",
   "execution_count": 8,
   "metadata": {},
   "outputs": [
    {
     "data": {
      "text/html": [
       "<div>\n",
       "<style scoped>\n",
       "    .dataframe tbody tr th:only-of-type {\n",
       "        vertical-align: middle;\n",
       "    }\n",
       "\n",
       "    .dataframe tbody tr th {\n",
       "        vertical-align: top;\n",
       "    }\n",
       "\n",
       "    .dataframe thead th {\n",
       "        text-align: right;\n",
       "    }\n",
       "</style>\n",
       "<table border=\"1\" class=\"dataframe\">\n",
       "  <thead>\n",
       "    <tr style=\"text-align: right;\">\n",
       "      <th></th>\n",
       "      <th>user_id</th>\n",
       "      <th>actual</th>\n",
       "      <th>random_recommendation</th>\n",
       "      <th>popular_recommendation</th>\n",
       "      <th>itemitem</th>\n",
       "      <th>cosine</th>\n",
       "      <th>tfidf</th>\n",
       "      <th>own_purchases</th>\n",
       "    </tr>\n",
       "  </thead>\n",
       "  <tbody>\n",
       "    <tr>\n",
       "      <th>0</th>\n",
       "      <td>1</td>\n",
       "      <td>[  821867   834484   856942   865456   889248 ...</td>\n",
       "      <td>[1120297, 12672919, 865377, 14074566, 1073212]</td>\n",
       "      <td>[6534178, 6533889, 1029743, 6534166, 1082185]</td>\n",
       "      <td>[999999, 1082185, 981760, 1127831, 995242]</td>\n",
       "      <td>[1082185, 999999, 981760, 1127831, 1098066]</td>\n",
       "      <td>[1082185, 981760, 1127831, 999999, 1098066]</td>\n",
       "      <td>[1082185, 1029743, 995785, 1004906, 1081177]</td>\n",
       "    </tr>\n",
       "    <tr>\n",
       "      <th>1</th>\n",
       "      <td>3</td>\n",
       "      <td>[  835476   851057   872021   878302   879948 ...</td>\n",
       "      <td>[12985723, 13511470, 976405, 6920289, 953154]</td>\n",
       "      <td>[6534178, 6533889, 1029743, 6534166, 1082185]</td>\n",
       "      <td>[999999, 1082185, 981760, 1098066, 995242]</td>\n",
       "      <td>[1082185, 1098066, 981760, 999999, 826249]</td>\n",
       "      <td>[1082185, 981760, 1098066, 826249, 999999]</td>\n",
       "      <td>[1082185, 1098066, 6534178, 1127831, 1068719]</td>\n",
       "    </tr>\n",
       "    <tr>\n",
       "      <th>2</th>\n",
       "      <td>6</td>\n",
       "      <td>[  920308   926804   946489  1006718  1017061 ...</td>\n",
       "      <td>[867846, 223642, 873201, 1054917, 13190151]</td>\n",
       "      <td>[6534178, 6533889, 1029743, 6534166, 1082185]</td>\n",
       "      <td>[999999, 1082185, 981760, 1127831, 995242]</td>\n",
       "      <td>[1082185, 999999, 981760, 1127831, 1098066]</td>\n",
       "      <td>[1082185, 981760, 1127831, 999999, 878996]</td>\n",
       "      <td>[1082185, 1029743, 6534178, 1127831, 995785]</td>\n",
       "    </tr>\n",
       "  </tbody>\n",
       "</table>\n",
       "</div>"
      ],
      "text/plain": [
       "   user_id                                             actual  \\\n",
       "0        1  [  821867   834484   856942   865456   889248 ...   \n",
       "1        3  [  835476   851057   872021   878302   879948 ...   \n",
       "2        6  [  920308   926804   946489  1006718  1017061 ...   \n",
       "\n",
       "                            random_recommendation  \\\n",
       "0  [1120297, 12672919, 865377, 14074566, 1073212]   \n",
       "1   [12985723, 13511470, 976405, 6920289, 953154]   \n",
       "2     [867846, 223642, 873201, 1054917, 13190151]   \n",
       "\n",
       "                          popular_recommendation  \\\n",
       "0  [6534178, 6533889, 1029743, 6534166, 1082185]   \n",
       "1  [6534178, 6533889, 1029743, 6534166, 1082185]   \n",
       "2  [6534178, 6533889, 1029743, 6534166, 1082185]   \n",
       "\n",
       "                                     itemitem  \\\n",
       "0  [999999, 1082185, 981760, 1127831, 995242]   \n",
       "1  [999999, 1082185, 981760, 1098066, 995242]   \n",
       "2  [999999, 1082185, 981760, 1127831, 995242]   \n",
       "\n",
       "                                        cosine  \\\n",
       "0  [1082185, 999999, 981760, 1127831, 1098066]   \n",
       "1   [1082185, 1098066, 981760, 999999, 826249]   \n",
       "2  [1082185, 999999, 981760, 1127831, 1098066]   \n",
       "\n",
       "                                         tfidf  \\\n",
       "0  [1082185, 981760, 1127831, 999999, 1098066]   \n",
       "1   [1082185, 981760, 1098066, 826249, 999999]   \n",
       "2   [1082185, 981760, 1127831, 999999, 878996]   \n",
       "\n",
       "                                   own_purchases  \n",
       "0   [1082185, 1029743, 995785, 1004906, 1081177]  \n",
       "1  [1082185, 1098066, 6534178, 1127831, 1068719]  \n",
       "2   [1082185, 1029743, 6534178, 1127831, 995785]  "
      ]
     },
     "execution_count": 8,
     "metadata": {},
     "output_type": "execute_result"
    }
   ],
   "source": [
    "result = pd.read_csv('predictions_basic.csv')\n",
    "result.head(3)"
   ]
  },
  {
   "cell_type": "code",
   "execution_count": 9,
   "metadata": {
    "colab": {},
    "colab_type": "code",
    "id": "brMuCHolC8Y4"
   },
   "outputs": [],
   "source": [
    "def random_recommendation(items, n=5):\n",
    "    \"\"\"Случайные рекоммендации\"\"\"\n",
    "    \n",
    "    items = np.array(items)\n",
    "    recs = np.random.choice(items, size=n, replace=False)\n",
    "    \n",
    "    return recs.tolist()\n",
    "def weighted_random_recommendation(items, items_weights, n=5):\n",
    "    \"\"\"Случайные рекоммендации\n",
    "    \n",
    "    Input\n",
    "    -----\n",
    "    items_weights: pd.DataFrame\n",
    "        Датафрейм со столбцами item_id, weight. Сумма weight по всем товарам = 1\n",
    "    \"\"\"\n",
    "    \n",
    "    # Подсказка: необходимо модифицировать функцию random_recommendation()\n",
    "    items = np.array(items)\n",
    "    recs = random.choices(items, weights=items_weights, k=n)\n",
    "    \n",
    "    return recs"
   ]
  },
  {
   "cell_type": "code",
   "execution_count": 10,
   "metadata": {
    "colab": {},
    "colab_type": "code",
    "id": "nK_AS3tmC8Y7",
    "scrolled": true
   },
   "outputs": [
    {
     "name": "stdout",
     "output_type": "stream",
     "text": [
      "Wall time: 6.17 s\n"
     ]
    },
    {
     "data": {
      "text/html": [
       "<div>\n",
       "<style scoped>\n",
       "    .dataframe tbody tr th:only-of-type {\n",
       "        vertical-align: middle;\n",
       "    }\n",
       "\n",
       "    .dataframe tbody tr th {\n",
       "        vertical-align: top;\n",
       "    }\n",
       "\n",
       "    .dataframe thead th {\n",
       "        text-align: right;\n",
       "    }\n",
       "</style>\n",
       "<table border=\"1\" class=\"dataframe\">\n",
       "  <thead>\n",
       "    <tr style=\"text-align: right;\">\n",
       "      <th></th>\n",
       "      <th>user_id</th>\n",
       "      <th>actual</th>\n",
       "      <th>random_recommendation</th>\n",
       "      <th>popular_recommendation</th>\n",
       "      <th>itemitem</th>\n",
       "      <th>cosine</th>\n",
       "      <th>tfidf</th>\n",
       "      <th>own_purchases</th>\n",
       "      <th>weighted_random_recommendation</th>\n",
       "    </tr>\n",
       "  </thead>\n",
       "  <tbody>\n",
       "    <tr>\n",
       "      <th>0</th>\n",
       "      <td>1</td>\n",
       "      <td>[  821867   834484   856942   865456   889248 ...</td>\n",
       "      <td>[1120297, 12672919, 865377, 14074566, 1073212]</td>\n",
       "      <td>[6534178, 6533889, 1029743, 6534166, 1082185]</td>\n",
       "      <td>[999999, 1082185, 981760, 1127831, 995242]</td>\n",
       "      <td>[1082185, 999999, 981760, 1127831, 1098066]</td>\n",
       "      <td>[1082185, 981760, 1127831, 999999, 1098066]</td>\n",
       "      <td>[1082185, 1029743, 995785, 1004906, 1081177]</td>\n",
       "      <td>[1105730, 47963, 847071, 7166673, 2386561]</td>\n",
       "    </tr>\n",
       "    <tr>\n",
       "      <th>1</th>\n",
       "      <td>3</td>\n",
       "      <td>[  835476   851057   872021   878302   879948 ...</td>\n",
       "      <td>[12985723, 13511470, 976405, 6920289, 953154]</td>\n",
       "      <td>[6534178, 6533889, 1029743, 6534166, 1082185]</td>\n",
       "      <td>[999999, 1082185, 981760, 1098066, 995242]</td>\n",
       "      <td>[1082185, 1098066, 981760, 999999, 826249]</td>\n",
       "      <td>[1082185, 981760, 1098066, 826249, 999999]</td>\n",
       "      <td>[1082185, 1098066, 6534178, 1127831, 1068719]</td>\n",
       "      <td>[912997, 855192, 6029743, 964616, 879270]</td>\n",
       "    </tr>\n",
       "  </tbody>\n",
       "</table>\n",
       "</div>"
      ],
      "text/plain": [
       "   user_id                                             actual  \\\n",
       "0        1  [  821867   834484   856942   865456   889248 ...   \n",
       "1        3  [  835476   851057   872021   878302   879948 ...   \n",
       "\n",
       "                            random_recommendation  \\\n",
       "0  [1120297, 12672919, 865377, 14074566, 1073212]   \n",
       "1   [12985723, 13511470, 976405, 6920289, 953154]   \n",
       "\n",
       "                          popular_recommendation  \\\n",
       "0  [6534178, 6533889, 1029743, 6534166, 1082185]   \n",
       "1  [6534178, 6533889, 1029743, 6534166, 1082185]   \n",
       "\n",
       "                                     itemitem  \\\n",
       "0  [999999, 1082185, 981760, 1127831, 995242]   \n",
       "1  [999999, 1082185, 981760, 1098066, 995242]   \n",
       "\n",
       "                                        cosine  \\\n",
       "0  [1082185, 999999, 981760, 1127831, 1098066]   \n",
       "1   [1082185, 1098066, 981760, 999999, 826249]   \n",
       "\n",
       "                                         tfidf  \\\n",
       "0  [1082185, 981760, 1127831, 999999, 1098066]   \n",
       "1   [1082185, 981760, 1098066, 826249, 999999]   \n",
       "\n",
       "                                   own_purchases  \\\n",
       "0   [1082185, 1029743, 995785, 1004906, 1081177]   \n",
       "1  [1082185, 1098066, 6534178, 1127831, 1068719]   \n",
       "\n",
       "               weighted_random_recommendation  \n",
       "0  [1105730, 47963, 847071, 7166673, 2386561]  \n",
       "1   [912997, 855192, 6029743, 964616, 879270]  "
      ]
     },
     "execution_count": 10,
     "metadata": {},
     "output_type": "execute_result"
    }
   ],
   "source": [
    "%%time\n",
    "weights = data.groupby(['item_id']).agg(sum)['sales_value'].to_list()\n",
    "\n",
    "items = data.item_id.unique()\n",
    "\n",
    "result['weighted_random_recommendation'] = result['user_id'].apply(lambda x: weighted_random_recommendation(items, weights, n=5))\n",
    "\n",
    "result.head(2)"
   ]
  },
  {
   "cell_type": "markdown",
   "metadata": {
    "colab_type": "text",
    "id": "hyNG6O-wC8Y_"
   },
   "source": [
    "### Задание 2. Расчет метрик\n",
    "Рассчитайте Precision@5 для каждого алгоритма с помощью функции из вебинара 1. Какой алгоритм показывает лучшее качество?"
   ]
  },
  {
   "cell_type": "code",
   "execution_count": 29,
   "metadata": {},
   "outputs": [],
   "source": [
    "result.to_csv('predictions_basic_1.csv', index=False)"
   ]
  },
  {
   "cell_type": "code",
   "execution_count": 30,
   "metadata": {},
   "outputs": [
    {
     "data": {
      "text/html": [
       "<div>\n",
       "<style scoped>\n",
       "    .dataframe tbody tr th:only-of-type {\n",
       "        vertical-align: middle;\n",
       "    }\n",
       "\n",
       "    .dataframe tbody tr th {\n",
       "        vertical-align: top;\n",
       "    }\n",
       "\n",
       "    .dataframe thead th {\n",
       "        text-align: right;\n",
       "    }\n",
       "</style>\n",
       "<table border=\"1\" class=\"dataframe\">\n",
       "  <thead>\n",
       "    <tr style=\"text-align: right;\">\n",
       "      <th></th>\n",
       "      <th>user_id</th>\n",
       "      <th>actual</th>\n",
       "      <th>random_recommendation</th>\n",
       "      <th>popular_recommendation</th>\n",
       "      <th>itemitem</th>\n",
       "      <th>cosine</th>\n",
       "      <th>tfidf</th>\n",
       "      <th>own_purchases</th>\n",
       "      <th>weighted_random_recommendation</th>\n",
       "    </tr>\n",
       "  </thead>\n",
       "  <tbody>\n",
       "    <tr>\n",
       "      <th>0</th>\n",
       "      <td>1</td>\n",
       "      <td>[  821867   834484   856942   865456   889248 ...</td>\n",
       "      <td>[1120297, 12672919, 865377, 14074566, 1073212]</td>\n",
       "      <td>[6534178, 6533889, 1029743, 6534166, 1082185]</td>\n",
       "      <td>[999999, 1082185, 981760, 1127831, 995242]</td>\n",
       "      <td>[1082185, 999999, 981760, 1127831, 1098066]</td>\n",
       "      <td>[1082185, 981760, 1127831, 999999, 1098066]</td>\n",
       "      <td>[1082185, 1029743, 995785, 1004906, 1081177]</td>\n",
       "      <td>[1105730, 47963, 847071, 7166673, 2386561]</td>\n",
       "    </tr>\n",
       "    <tr>\n",
       "      <th>1</th>\n",
       "      <td>3</td>\n",
       "      <td>[  835476   851057   872021   878302   879948 ...</td>\n",
       "      <td>[12985723, 13511470, 976405, 6920289, 953154]</td>\n",
       "      <td>[6534178, 6533889, 1029743, 6534166, 1082185]</td>\n",
       "      <td>[999999, 1082185, 981760, 1098066, 995242]</td>\n",
       "      <td>[1082185, 1098066, 981760, 999999, 826249]</td>\n",
       "      <td>[1082185, 981760, 1098066, 826249, 999999]</td>\n",
       "      <td>[1082185, 1098066, 6534178, 1127831, 1068719]</td>\n",
       "      <td>[912997, 855192, 6029743, 964616, 879270]</td>\n",
       "    </tr>\n",
       "    <tr>\n",
       "      <th>2</th>\n",
       "      <td>6</td>\n",
       "      <td>[  920308   926804   946489  1006718  1017061 ...</td>\n",
       "      <td>[867846, 223642, 873201, 1054917, 13190151]</td>\n",
       "      <td>[6534178, 6533889, 1029743, 6534166, 1082185]</td>\n",
       "      <td>[999999, 1082185, 981760, 1127831, 995242]</td>\n",
       "      <td>[1082185, 999999, 981760, 1127831, 1098066]</td>\n",
       "      <td>[1082185, 981760, 1127831, 999999, 878996]</td>\n",
       "      <td>[1082185, 1029743, 6534178, 1127831, 995785]</td>\n",
       "      <td>[3363966, 12183254, 7026550, 5552733, 6548709]</td>\n",
       "    </tr>\n",
       "  </tbody>\n",
       "</table>\n",
       "</div>"
      ],
      "text/plain": [
       "   user_id                                             actual  \\\n",
       "0        1  [  821867   834484   856942   865456   889248 ...   \n",
       "1        3  [  835476   851057   872021   878302   879948 ...   \n",
       "2        6  [  920308   926804   946489  1006718  1017061 ...   \n",
       "\n",
       "                            random_recommendation  \\\n",
       "0  [1120297, 12672919, 865377, 14074566, 1073212]   \n",
       "1   [12985723, 13511470, 976405, 6920289, 953154]   \n",
       "2     [867846, 223642, 873201, 1054917, 13190151]   \n",
       "\n",
       "                          popular_recommendation  \\\n",
       "0  [6534178, 6533889, 1029743, 6534166, 1082185]   \n",
       "1  [6534178, 6533889, 1029743, 6534166, 1082185]   \n",
       "2  [6534178, 6533889, 1029743, 6534166, 1082185]   \n",
       "\n",
       "                                     itemitem  \\\n",
       "0  [999999, 1082185, 981760, 1127831, 995242]   \n",
       "1  [999999, 1082185, 981760, 1098066, 995242]   \n",
       "2  [999999, 1082185, 981760, 1127831, 995242]   \n",
       "\n",
       "                                        cosine  \\\n",
       "0  [1082185, 999999, 981760, 1127831, 1098066]   \n",
       "1   [1082185, 1098066, 981760, 999999, 826249]   \n",
       "2  [1082185, 999999, 981760, 1127831, 1098066]   \n",
       "\n",
       "                                         tfidf  \\\n",
       "0  [1082185, 981760, 1127831, 999999, 1098066]   \n",
       "1   [1082185, 981760, 1098066, 826249, 999999]   \n",
       "2   [1082185, 981760, 1127831, 999999, 878996]   \n",
       "\n",
       "                                   own_purchases  \\\n",
       "0   [1082185, 1029743, 995785, 1004906, 1081177]   \n",
       "1  [1082185, 1098066, 6534178, 1127831, 1068719]   \n",
       "2   [1082185, 1029743, 6534178, 1127831, 995785]   \n",
       "\n",
       "                   weighted_random_recommendation  \n",
       "0      [1105730, 47963, 847071, 7166673, 2386561]  \n",
       "1       [912997, 855192, 6029743, 964616, 879270]  \n",
       "2  [3363966, 12183254, 7026550, 5552733, 6548709]  "
      ]
     },
     "execution_count": 30,
     "metadata": {},
     "output_type": "execute_result"
    }
   ],
   "source": [
    "result = pd.read_csv('predictions_basic_1.csv')\n",
    "result.head(3)\n",
    "\n"
   ]
  },
  {
   "cell_type": "code",
   "execution_count": 33,
   "metadata": {
    "scrolled": true
   },
   "outputs": [
    {
     "name": "stdout",
     "output_type": "stream",
     "text": [
      "1.0:actual\n",
      "0.0:random_recommendation\n",
      "0.0014:popular_recommendation\n",
      "0.0001:itemitem\n",
      "0.0002:cosine\n",
      "0.0:tfidf\n",
      "0.0006:own_purchases\n",
      "0.0:weighted_random_recommendation\n"
     ]
    }
   ],
   "source": [
    "for name_col in result.columns[1:]:\n",
    "    print(f\"{round(result.apply(lambda row: precision_at_k(np.array(row[name_col][1:-2].split()), np.array(row['actual'][1:-2].split())), axis=1).mean(), 4)}:{name_col}\")"
   ]
  },
  {
   "cell_type": "markdown",
   "metadata": {},
   "source": [
    "## Не знаю почему как во время вебинара, предполагаю, что проблема в типах данных и чтении csv, можете подсказать в чем проблема?"
   ]
  },
  {
   "cell_type": "markdown",
   "metadata": {
    "colab_type": "text",
    "id": "igDU0j1cC8ZH"
   },
   "source": [
    "### Задание 3*. Улучшение бейзлайнов и ItemItem\n",
    "\n",
    "- Попробуйте улучшить бейзлайны, считая их на топ-5000 товаров\n",
    "- Попробуйте улучшить разные варианты ItemItemRecommender, выбирая число соседей $K$."
   ]
  },
  {
   "cell_type": "markdown",
   "metadata": {
    "colab": {},
    "colab_type": "code",
    "id": "zYBR3cMPC8ZH"
   },
   "source": [
    "Много проблем с библиотекой implicit, разобраться пока не смог поэтому и моделей нет. "
   ]
  }
 ],
 "metadata": {
  "colab": {
   "name": "hw_webinar_2.ipynb",
   "provenance": []
  },
  "kernelspec": {
   "display_name": "Python 3",
   "language": "python",
   "name": "python3"
  },
  "language_info": {
   "codemirror_mode": {
    "name": "ipython",
    "version": 3
   },
   "file_extension": ".py",
   "mimetype": "text/x-python",
   "name": "python",
   "nbconvert_exporter": "python",
   "pygments_lexer": "ipython3",
   "version": "3.7.6"
  }
 },
 "nbformat": 4,
 "nbformat_minor": 1
}
